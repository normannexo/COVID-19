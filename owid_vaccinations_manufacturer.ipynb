{
 "metadata": {
  "language_info": {
   "codemirror_mode": {
    "name": "ipython",
    "version": 3
   },
   "file_extension": ".py",
   "mimetype": "text/x-python",
   "name": "python",
   "nbconvert_exporter": "python",
   "pygments_lexer": "ipython3",
   "version": "3.8.8"
  },
  "orig_nbformat": 2,
  "kernelspec": {
   "name": "python3",
   "display_name": "Python 3.8.8 64-bit ('data_science': conda)",
   "metadata": {
    "interpreter": {
     "hash": "40eeeca0aebd28e1fd2adc539a281839687c5150da9cb9f5ab31148502375ebc"
    }
   }
  }
 },
 "nbformat": 4,
 "nbformat_minor": 2,
 "cells": [
  {
   "source": [
    "# COVID-19 Vaccinations by manufacturer"
   ],
   "cell_type": "markdown",
   "metadata": {}
  },
  {
   "cell_type": "code",
   "execution_count": 2,
   "metadata": {},
   "outputs": [],
   "source": [
    "import pandas as pd\n",
    "import numpy as np\n",
    "import matplotlib.pyplot as plt\n",
    "import seaborn as sns\n",
    "import matplotlib.dates as mdates\n",
    "%matplotlib inline\n",
    "sns.set_style('whitegrid')"
   ]
  },
  {
   "cell_type": "code",
   "execution_count": 3,
   "metadata": {},
   "outputs": [],
   "source": [
    "import matplotlib.pylab as pylab\n",
    "params = {'legend.fontsize': 'x-large',\n",
    "          'figure.figsize': (15, 10),\n",
    "         'axes.labelsize': 'x-large',\n",
    "         'axes.titlesize':'x-large',\n",
    "         'xtick.labelsize':'x-large',\n",
    "         'ytick.labelsize':'x-large'}\n",
    "pylab.rcParams.update(params)"
   ]
  },
  {
   "source": [
    "#### Gather data from https://raw.githubusercontent.com/owid/covid-19-data/master/public/data/vaccinations/vaccinations-by-manufacturer.csv"
   ],
   "cell_type": "markdown",
   "metadata": {}
  },
  {
   "cell_type": "code",
   "execution_count": 8,
   "metadata": {},
   "outputs": [
    {
     "output_type": "execute_result",
     "data": {
      "text/plain": [
       "                                  vaccine  total_vaccinations\n",
       "location      date                                           \n",
       "Chile         2020-12-24  Pfizer/BioNTech                 420\n",
       "              2020-12-25  Pfizer/BioNTech                5198\n",
       "              2020-12-26  Pfizer/BioNTech                8338\n",
       "              2020-12-27  Pfizer/BioNTech                8649\n",
       "              2020-12-28  Pfizer/BioNTech                8649\n",
       "...                                   ...                 ...\n",
       "United States 2021-03-25          Moderna            62877755\n",
       "              2021-03-25  Pfizer/BioNTech            67555076\n",
       "              2021-03-26  Johnson&Johnson             2863246\n",
       "              2021-03-26          Moderna            64313721\n",
       "              2021-03-26  Pfizer/BioNTech            69368232\n",
       "\n",
       "[1884 rows x 2 columns]"
      ],
      "text/html": "<div>\n<style scoped>\n    .dataframe tbody tr th:only-of-type {\n        vertical-align: middle;\n    }\n\n    .dataframe tbody tr th {\n        vertical-align: top;\n    }\n\n    .dataframe thead th {\n        text-align: right;\n    }\n</style>\n<table border=\"1\" class=\"dataframe\">\n  <thead>\n    <tr style=\"text-align: right;\">\n      <th></th>\n      <th></th>\n      <th>vaccine</th>\n      <th>total_vaccinations</th>\n    </tr>\n    <tr>\n      <th>location</th>\n      <th>date</th>\n      <th></th>\n      <th></th>\n    </tr>\n  </thead>\n  <tbody>\n    <tr>\n      <th rowspan=\"5\" valign=\"top\">Chile</th>\n      <th>2020-12-24</th>\n      <td>Pfizer/BioNTech</td>\n      <td>420</td>\n    </tr>\n    <tr>\n      <th>2020-12-25</th>\n      <td>Pfizer/BioNTech</td>\n      <td>5198</td>\n    </tr>\n    <tr>\n      <th>2020-12-26</th>\n      <td>Pfizer/BioNTech</td>\n      <td>8338</td>\n    </tr>\n    <tr>\n      <th>2020-12-27</th>\n      <td>Pfizer/BioNTech</td>\n      <td>8649</td>\n    </tr>\n    <tr>\n      <th>2020-12-28</th>\n      <td>Pfizer/BioNTech</td>\n      <td>8649</td>\n    </tr>\n    <tr>\n      <th>...</th>\n      <th>...</th>\n      <td>...</td>\n      <td>...</td>\n    </tr>\n    <tr>\n      <th rowspan=\"5\" valign=\"top\">United States</th>\n      <th>2021-03-25</th>\n      <td>Moderna</td>\n      <td>62877755</td>\n    </tr>\n    <tr>\n      <th>2021-03-25</th>\n      <td>Pfizer/BioNTech</td>\n      <td>67555076</td>\n    </tr>\n    <tr>\n      <th>2021-03-26</th>\n      <td>Johnson&amp;Johnson</td>\n      <td>2863246</td>\n    </tr>\n    <tr>\n      <th>2021-03-26</th>\n      <td>Moderna</td>\n      <td>64313721</td>\n    </tr>\n    <tr>\n      <th>2021-03-26</th>\n      <td>Pfizer/BioNTech</td>\n      <td>69368232</td>\n    </tr>\n  </tbody>\n</table>\n<p>1884 rows × 2 columns</p>\n</div>"
     },
     "metadata": {},
     "execution_count": 8
    }
   ],
   "source": [
    "df_world = pd.read_csv('https://raw.githubusercontent.com/owid/covid-19-data/master/public/data/vaccinations/vaccinations-by-manufacturer.csv', parse_dates=['date']).set_index(['location', 'date']).sort_index()\n",
    "df_world"
   ]
  },
  {
   "cell_type": "code",
   "execution_count": 10,
   "metadata": {},
   "outputs": [
    {
     "output_type": "execute_result",
     "data": {
      "text/plain": [
       "Index(['Chile', 'Czechia', 'Germany', 'Iceland', 'Italy', 'Latvia',\n",
       "       'Lithuania', 'Romania', 'United States'],\n",
       "      dtype='object', name='location')"
      ]
     },
     "metadata": {},
     "execution_count": 10
    }
   ],
   "source": [
    "df_world.index.get_level_values(0).unique()"
   ]
  },
  {
   "cell_type": "code",
   "execution_count": 12,
   "metadata": {},
   "outputs": [
    {
     "output_type": "execute_result",
     "data": {
      "text/plain": [
       "                                  total_vaccinations\n",
       "location      vaccine                               \n",
       "Chile         Pfizer/BioNTech                 933055\n",
       "              Sinovac                        8711960\n",
       "Czechia       Moderna                         136231\n",
       "              Oxford/AstraZeneca              209024\n",
       "              Pfizer/BioNTech                1215664\n",
       "Germany       Moderna                         515209\n",
       "              Oxford/AstraZeneca             2377168\n",
       "              Pfizer/BioNTech                9471062\n",
       "Iceland       Moderna                           6713\n",
       "              Oxford/AstraZeneca                9318\n",
       "              Pfizer/BioNTech                  44335\n",
       "Italy         Moderna                         443212\n",
       "              Oxford/AstraZeneca             1682439\n",
       "              Pfizer/BioNTech                7085242\n",
       "Latvia        Moderna                          16993\n",
       "              Oxford/AstraZeneca               71972\n",
       "              Pfizer/BioNTech                  37327\n",
       "Lithuania     Moderna                          36406\n",
       "              Oxford/AstraZeneca              100652\n",
       "              Pfizer/BioNTech                 337903\n",
       "Romania       Moderna                         200231\n",
       "              Oxford/AstraZeneca              318056\n",
       "              Pfizer/BioNTech                2273184\n",
       "United States Johnson&Johnson                2863246\n",
       "              Moderna                       64313721\n",
       "              Pfizer/BioNTech               69368232"
      ],
      "text/html": "<div>\n<style scoped>\n    .dataframe tbody tr th:only-of-type {\n        vertical-align: middle;\n    }\n\n    .dataframe tbody tr th {\n        vertical-align: top;\n    }\n\n    .dataframe thead th {\n        text-align: right;\n    }\n</style>\n<table border=\"1\" class=\"dataframe\">\n  <thead>\n    <tr style=\"text-align: right;\">\n      <th></th>\n      <th></th>\n      <th>total_vaccinations</th>\n    </tr>\n    <tr>\n      <th>location</th>\n      <th>vaccine</th>\n      <th></th>\n    </tr>\n  </thead>\n  <tbody>\n    <tr>\n      <th rowspan=\"2\" valign=\"top\">Chile</th>\n      <th>Pfizer/BioNTech</th>\n      <td>933055</td>\n    </tr>\n    <tr>\n      <th>Sinovac</th>\n      <td>8711960</td>\n    </tr>\n    <tr>\n      <th rowspan=\"3\" valign=\"top\">Czechia</th>\n      <th>Moderna</th>\n      <td>136231</td>\n    </tr>\n    <tr>\n      <th>Oxford/AstraZeneca</th>\n      <td>209024</td>\n    </tr>\n    <tr>\n      <th>Pfizer/BioNTech</th>\n      <td>1215664</td>\n    </tr>\n    <tr>\n      <th rowspan=\"3\" valign=\"top\">Germany</th>\n      <th>Moderna</th>\n      <td>515209</td>\n    </tr>\n    <tr>\n      <th>Oxford/AstraZeneca</th>\n      <td>2377168</td>\n    </tr>\n    <tr>\n      <th>Pfizer/BioNTech</th>\n      <td>9471062</td>\n    </tr>\n    <tr>\n      <th rowspan=\"3\" valign=\"top\">Iceland</th>\n      <th>Moderna</th>\n      <td>6713</td>\n    </tr>\n    <tr>\n      <th>Oxford/AstraZeneca</th>\n      <td>9318</td>\n    </tr>\n    <tr>\n      <th>Pfizer/BioNTech</th>\n      <td>44335</td>\n    </tr>\n    <tr>\n      <th rowspan=\"3\" valign=\"top\">Italy</th>\n      <th>Moderna</th>\n      <td>443212</td>\n    </tr>\n    <tr>\n      <th>Oxford/AstraZeneca</th>\n      <td>1682439</td>\n    </tr>\n    <tr>\n      <th>Pfizer/BioNTech</th>\n      <td>7085242</td>\n    </tr>\n    <tr>\n      <th rowspan=\"3\" valign=\"top\">Latvia</th>\n      <th>Moderna</th>\n      <td>16993</td>\n    </tr>\n    <tr>\n      <th>Oxford/AstraZeneca</th>\n      <td>71972</td>\n    </tr>\n    <tr>\n      <th>Pfizer/BioNTech</th>\n      <td>37327</td>\n    </tr>\n    <tr>\n      <th rowspan=\"3\" valign=\"top\">Lithuania</th>\n      <th>Moderna</th>\n      <td>36406</td>\n    </tr>\n    <tr>\n      <th>Oxford/AstraZeneca</th>\n      <td>100652</td>\n    </tr>\n    <tr>\n      <th>Pfizer/BioNTech</th>\n      <td>337903</td>\n    </tr>\n    <tr>\n      <th rowspan=\"3\" valign=\"top\">Romania</th>\n      <th>Moderna</th>\n      <td>200231</td>\n    </tr>\n    <tr>\n      <th>Oxford/AstraZeneca</th>\n      <td>318056</td>\n    </tr>\n    <tr>\n      <th>Pfizer/BioNTech</th>\n      <td>2273184</td>\n    </tr>\n    <tr>\n      <th rowspan=\"3\" valign=\"top\">United States</th>\n      <th>Johnson&amp;Johnson</th>\n      <td>2863246</td>\n    </tr>\n    <tr>\n      <th>Moderna</th>\n      <td>64313721</td>\n    </tr>\n    <tr>\n      <th>Pfizer/BioNTech</th>\n      <td>69368232</td>\n    </tr>\n  </tbody>\n</table>\n</div>"
     },
     "metadata": {},
     "execution_count": 12
    }
   ],
   "source": [
    "df_world.groupby(['location', 'vaccine']).last()"
   ]
  },
  {
   "cell_type": "code",
   "execution_count": null,
   "metadata": {},
   "outputs": [],
   "source": []
  }
 ]
}