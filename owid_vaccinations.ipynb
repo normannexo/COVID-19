{
 "metadata": {
  "language_info": {
   "codemirror_mode": {
    "name": "ipython",
    "version": 3
   },
   "file_extension": ".py",
   "mimetype": "text/x-python",
   "name": "python",
   "nbconvert_exporter": "python",
   "pygments_lexer": "ipython3",
   "version": "3.8.8-final"
  },
  "orig_nbformat": 2,
  "kernelspec": {
   "name": "python3",
   "display_name": "Python 3.8.8 64-bit ('data_science': conda)",
   "metadata": {
    "interpreter": {
     "hash": "40eeeca0aebd28e1fd2adc539a281839687c5150da9cb9f5ab31148502375ebc"
    }
   }
  }
 },
 "nbformat": 4,
 "nbformat_minor": 2,
 "cells": [
  {
   "source": [
    "# COVID-19 Vaccinations"
   ],
   "cell_type": "markdown",
   "metadata": {}
  },
  {
   "cell_type": "code",
   "execution_count": 1,
   "metadata": {},
   "outputs": [],
   "source": [
    "import pandas as pd\n",
    "import numpy as np\n",
    "import matplotlib.pyplot as plt\n",
    "import seaborn as sns\n",
    "import matplotlib.dates as mdates\n",
    "%matplotlib inline\n",
    "sns.set_style('whitegrid')"
   ]
  },
  {
   "cell_type": "code",
   "execution_count": 2,
   "metadata": {},
   "outputs": [],
   "source": [
    "import matplotlib.pylab as pylab\n",
    "params = {'legend.fontsize': 'x-large',\n",
    "          'figure.figsize': (15, 5),\n",
    "         'axes.labelsize': 'x-large',\n",
    "         'axes.titlesize':'x-large',\n",
    "         'xtick.labelsize':'x-large',\n",
    "         'ytick.labelsize':'x-large'}\n",
    "pylab.rcParams.update(params)"
   ]
  },
  {
   "source": [
    "#### Gather data from https://raw.githubusercontent.com/owid/covid-19-data/master/public/data/owid-covid-data.csv\n",
    "\n",
    "#### See codebook here: https://github.com/owid/covid-19-data/blob/master/public/data/owid-covid-codebook.csv"
   ],
   "cell_type": "markdown",
   "metadata": {}
  },
  {
   "cell_type": "code",
   "execution_count": 5,
   "metadata": {},
   "outputs": [
    {
     "output_type": "execute_result",
     "data": {
      "text/plain": [
       "                       iso_code continent  total_cases  new_cases  \\\n",
       "location    date                                                    \n",
       "Afghanistan 2020-02-24      AFG      Asia          1.0        1.0   \n",
       "            2020-02-25      AFG      Asia          1.0        0.0   \n",
       "            2020-02-26      AFG      Asia          1.0        0.0   \n",
       "            2020-02-27      AFG      Asia          1.0        0.0   \n",
       "            2020-02-28      AFG      Asia          1.0        0.0   \n",
       "...                         ...       ...          ...        ...   \n",
       "Zimbabwe    2021-03-17      ZWE    Africa      36552.0       17.0   \n",
       "            2021-03-18      ZWE    Africa      36611.0       59.0   \n",
       "            2021-03-19      ZWE    Africa      36652.0       41.0   \n",
       "            2021-03-20      ZWE    Africa      36662.0       10.0   \n",
       "            2021-03-21      ZWE    Africa      36665.0        3.0   \n",
       "\n",
       "                        new_cases_smoothed  total_deaths  new_deaths  \\\n",
       "location    date                                                       \n",
       "Afghanistan 2020-02-24                 NaN           NaN         NaN   \n",
       "            2020-02-25                 NaN           NaN         NaN   \n",
       "            2020-02-26                 NaN           NaN         NaN   \n",
       "            2020-02-27                 NaN           NaN         NaN   \n",
       "            2020-02-28                 NaN           NaN         NaN   \n",
       "...                                    ...           ...         ...   \n",
       "Zimbabwe    2021-03-17              30.143        1508.0         1.0   \n",
       "            2021-03-18              33.429        1509.0         1.0   \n",
       "            2021-03-19              32.714        1510.0         1.0   \n",
       "            2021-03-20              27.286        1510.0         0.0   \n",
       "            2021-03-21              25.857        1512.0         2.0   \n",
       "\n",
       "                        new_deaths_smoothed  total_cases_per_million  \\\n",
       "location    date                                                       \n",
       "Afghanistan 2020-02-24                  NaN                    0.026   \n",
       "            2020-02-25                  NaN                    0.026   \n",
       "            2020-02-26                  NaN                    0.026   \n",
       "            2020-02-27                  NaN                    0.026   \n",
       "            2020-02-28                  NaN                    0.026   \n",
       "...                                     ...                      ...   \n",
       "Zimbabwe    2021-03-17                2.714                 2459.273   \n",
       "            2021-03-18                2.429                 2463.243   \n",
       "            2021-03-19                2.000                 2466.001   \n",
       "            2021-03-20                1.286                 2466.674   \n",
       "            2021-03-21                1.286                 2466.876   \n",
       "\n",
       "                        new_cases_per_million  ...  gdp_per_capita  \\\n",
       "location    date                               ...                   \n",
       "Afghanistan 2020-02-24                  0.026  ...        1803.987   \n",
       "            2020-02-25                  0.000  ...        1803.987   \n",
       "            2020-02-26                  0.000  ...        1803.987   \n",
       "            2020-02-27                  0.000  ...        1803.987   \n",
       "            2020-02-28                  0.000  ...        1803.987   \n",
       "...                                       ...  ...             ...   \n",
       "Zimbabwe    2021-03-17                  1.144  ...        1899.775   \n",
       "            2021-03-18                  3.970  ...        1899.775   \n",
       "            2021-03-19                  2.759  ...        1899.775   \n",
       "            2021-03-20                  0.673  ...        1899.775   \n",
       "            2021-03-21                  0.202  ...        1899.775   \n",
       "\n",
       "                        extreme_poverty  cardiovasc_death_rate  \\\n",
       "location    date                                                 \n",
       "Afghanistan 2020-02-24              NaN                597.029   \n",
       "            2020-02-25              NaN                597.029   \n",
       "            2020-02-26              NaN                597.029   \n",
       "            2020-02-27              NaN                597.029   \n",
       "            2020-02-28              NaN                597.029   \n",
       "...                                 ...                    ...   \n",
       "Zimbabwe    2021-03-17             21.4                307.846   \n",
       "            2021-03-18             21.4                307.846   \n",
       "            2021-03-19             21.4                307.846   \n",
       "            2021-03-20             21.4                307.846   \n",
       "            2021-03-21             21.4                307.846   \n",
       "\n",
       "                        diabetes_prevalence  female_smokers  male_smokers  \\\n",
       "location    date                                                            \n",
       "Afghanistan 2020-02-24                 9.59             NaN           NaN   \n",
       "            2020-02-25                 9.59             NaN           NaN   \n",
       "            2020-02-26                 9.59             NaN           NaN   \n",
       "            2020-02-27                 9.59             NaN           NaN   \n",
       "            2020-02-28                 9.59             NaN           NaN   \n",
       "...                                     ...             ...           ...   \n",
       "Zimbabwe    2021-03-17                 1.82             1.6          30.7   \n",
       "            2021-03-18                 1.82             1.6          30.7   \n",
       "            2021-03-19                 1.82             1.6          30.7   \n",
       "            2021-03-20                 1.82             1.6          30.7   \n",
       "            2021-03-21                 1.82             1.6          30.7   \n",
       "\n",
       "                        handwashing_facilities  hospital_beds_per_thousand  \\\n",
       "location    date                                                             \n",
       "Afghanistan 2020-02-24                  37.746                         0.5   \n",
       "            2020-02-25                  37.746                         0.5   \n",
       "            2020-02-26                  37.746                         0.5   \n",
       "            2020-02-27                  37.746                         0.5   \n",
       "            2020-02-28                  37.746                         0.5   \n",
       "...                                        ...                         ...   \n",
       "Zimbabwe    2021-03-17                  36.791                         1.7   \n",
       "            2021-03-18                  36.791                         1.7   \n",
       "            2021-03-19                  36.791                         1.7   \n",
       "            2021-03-20                  36.791                         1.7   \n",
       "            2021-03-21                  36.791                         1.7   \n",
       "\n",
       "                        life_expectancy  human_development_index  \n",
       "location    date                                                  \n",
       "Afghanistan 2020-02-24            64.83                    0.511  \n",
       "            2020-02-25            64.83                    0.511  \n",
       "            2020-02-26            64.83                    0.511  \n",
       "            2020-02-27            64.83                    0.511  \n",
       "            2020-02-28            64.83                    0.511  \n",
       "...                                 ...                      ...  \n",
       "Zimbabwe    2021-03-17            61.49                    0.571  \n",
       "            2021-03-18            61.49                    0.571  \n",
       "            2021-03-19            61.49                    0.571  \n",
       "            2021-03-20            61.49                    0.571  \n",
       "            2021-03-21            61.49                    0.571  \n",
       "\n",
       "[76411 rows x 57 columns]"
      ],
      "text/html": "<div>\n<style scoped>\n    .dataframe tbody tr th:only-of-type {\n        vertical-align: middle;\n    }\n\n    .dataframe tbody tr th {\n        vertical-align: top;\n    }\n\n    .dataframe thead th {\n        text-align: right;\n    }\n</style>\n<table border=\"1\" class=\"dataframe\">\n  <thead>\n    <tr style=\"text-align: right;\">\n      <th></th>\n      <th></th>\n      <th>iso_code</th>\n      <th>continent</th>\n      <th>total_cases</th>\n      <th>new_cases</th>\n      <th>new_cases_smoothed</th>\n      <th>total_deaths</th>\n      <th>new_deaths</th>\n      <th>new_deaths_smoothed</th>\n      <th>total_cases_per_million</th>\n      <th>new_cases_per_million</th>\n      <th>...</th>\n      <th>gdp_per_capita</th>\n      <th>extreme_poverty</th>\n      <th>cardiovasc_death_rate</th>\n      <th>diabetes_prevalence</th>\n      <th>female_smokers</th>\n      <th>male_smokers</th>\n      <th>handwashing_facilities</th>\n      <th>hospital_beds_per_thousand</th>\n      <th>life_expectancy</th>\n      <th>human_development_index</th>\n    </tr>\n    <tr>\n      <th>location</th>\n      <th>date</th>\n      <th></th>\n      <th></th>\n      <th></th>\n      <th></th>\n      <th></th>\n      <th></th>\n      <th></th>\n      <th></th>\n      <th></th>\n      <th></th>\n      <th></th>\n      <th></th>\n      <th></th>\n      <th></th>\n      <th></th>\n      <th></th>\n      <th></th>\n      <th></th>\n      <th></th>\n      <th></th>\n      <th></th>\n    </tr>\n  </thead>\n  <tbody>\n    <tr>\n      <th rowspan=\"5\" valign=\"top\">Afghanistan</th>\n      <th>2020-02-24</th>\n      <td>AFG</td>\n      <td>Asia</td>\n      <td>1.0</td>\n      <td>1.0</td>\n      <td>NaN</td>\n      <td>NaN</td>\n      <td>NaN</td>\n      <td>NaN</td>\n      <td>0.026</td>\n      <td>0.026</td>\n      <td>...</td>\n      <td>1803.987</td>\n      <td>NaN</td>\n      <td>597.029</td>\n      <td>9.59</td>\n      <td>NaN</td>\n      <td>NaN</td>\n      <td>37.746</td>\n      <td>0.5</td>\n      <td>64.83</td>\n      <td>0.511</td>\n    </tr>\n    <tr>\n      <th>2020-02-25</th>\n      <td>AFG</td>\n      <td>Asia</td>\n      <td>1.0</td>\n      <td>0.0</td>\n      <td>NaN</td>\n      <td>NaN</td>\n      <td>NaN</td>\n      <td>NaN</td>\n      <td>0.026</td>\n      <td>0.000</td>\n      <td>...</td>\n      <td>1803.987</td>\n      <td>NaN</td>\n      <td>597.029</td>\n      <td>9.59</td>\n      <td>NaN</td>\n      <td>NaN</td>\n      <td>37.746</td>\n      <td>0.5</td>\n      <td>64.83</td>\n      <td>0.511</td>\n    </tr>\n    <tr>\n      <th>2020-02-26</th>\n      <td>AFG</td>\n      <td>Asia</td>\n      <td>1.0</td>\n      <td>0.0</td>\n      <td>NaN</td>\n      <td>NaN</td>\n      <td>NaN</td>\n      <td>NaN</td>\n      <td>0.026</td>\n      <td>0.000</td>\n      <td>...</td>\n      <td>1803.987</td>\n      <td>NaN</td>\n      <td>597.029</td>\n      <td>9.59</td>\n      <td>NaN</td>\n      <td>NaN</td>\n      <td>37.746</td>\n      <td>0.5</td>\n      <td>64.83</td>\n      <td>0.511</td>\n    </tr>\n    <tr>\n      <th>2020-02-27</th>\n      <td>AFG</td>\n      <td>Asia</td>\n      <td>1.0</td>\n      <td>0.0</td>\n      <td>NaN</td>\n      <td>NaN</td>\n      <td>NaN</td>\n      <td>NaN</td>\n      <td>0.026</td>\n      <td>0.000</td>\n      <td>...</td>\n      <td>1803.987</td>\n      <td>NaN</td>\n      <td>597.029</td>\n      <td>9.59</td>\n      <td>NaN</td>\n      <td>NaN</td>\n      <td>37.746</td>\n      <td>0.5</td>\n      <td>64.83</td>\n      <td>0.511</td>\n    </tr>\n    <tr>\n      <th>2020-02-28</th>\n      <td>AFG</td>\n      <td>Asia</td>\n      <td>1.0</td>\n      <td>0.0</td>\n      <td>NaN</td>\n      <td>NaN</td>\n      <td>NaN</td>\n      <td>NaN</td>\n      <td>0.026</td>\n      <td>0.000</td>\n      <td>...</td>\n      <td>1803.987</td>\n      <td>NaN</td>\n      <td>597.029</td>\n      <td>9.59</td>\n      <td>NaN</td>\n      <td>NaN</td>\n      <td>37.746</td>\n      <td>0.5</td>\n      <td>64.83</td>\n      <td>0.511</td>\n    </tr>\n    <tr>\n      <th>...</th>\n      <th>...</th>\n      <td>...</td>\n      <td>...</td>\n      <td>...</td>\n      <td>...</td>\n      <td>...</td>\n      <td>...</td>\n      <td>...</td>\n      <td>...</td>\n      <td>...</td>\n      <td>...</td>\n      <td>...</td>\n      <td>...</td>\n      <td>...</td>\n      <td>...</td>\n      <td>...</td>\n      <td>...</td>\n      <td>...</td>\n      <td>...</td>\n      <td>...</td>\n      <td>...</td>\n      <td>...</td>\n    </tr>\n    <tr>\n      <th rowspan=\"5\" valign=\"top\">Zimbabwe</th>\n      <th>2021-03-17</th>\n      <td>ZWE</td>\n      <td>Africa</td>\n      <td>36552.0</td>\n      <td>17.0</td>\n      <td>30.143</td>\n      <td>1508.0</td>\n      <td>1.0</td>\n      <td>2.714</td>\n      <td>2459.273</td>\n      <td>1.144</td>\n      <td>...</td>\n      <td>1899.775</td>\n      <td>21.4</td>\n      <td>307.846</td>\n      <td>1.82</td>\n      <td>1.6</td>\n      <td>30.7</td>\n      <td>36.791</td>\n      <td>1.7</td>\n      <td>61.49</td>\n      <td>0.571</td>\n    </tr>\n    <tr>\n      <th>2021-03-18</th>\n      <td>ZWE</td>\n      <td>Africa</td>\n      <td>36611.0</td>\n      <td>59.0</td>\n      <td>33.429</td>\n      <td>1509.0</td>\n      <td>1.0</td>\n      <td>2.429</td>\n      <td>2463.243</td>\n      <td>3.970</td>\n      <td>...</td>\n      <td>1899.775</td>\n      <td>21.4</td>\n      <td>307.846</td>\n      <td>1.82</td>\n      <td>1.6</td>\n      <td>30.7</td>\n      <td>36.791</td>\n      <td>1.7</td>\n      <td>61.49</td>\n      <td>0.571</td>\n    </tr>\n    <tr>\n      <th>2021-03-19</th>\n      <td>ZWE</td>\n      <td>Africa</td>\n      <td>36652.0</td>\n      <td>41.0</td>\n      <td>32.714</td>\n      <td>1510.0</td>\n      <td>1.0</td>\n      <td>2.000</td>\n      <td>2466.001</td>\n      <td>2.759</td>\n      <td>...</td>\n      <td>1899.775</td>\n      <td>21.4</td>\n      <td>307.846</td>\n      <td>1.82</td>\n      <td>1.6</td>\n      <td>30.7</td>\n      <td>36.791</td>\n      <td>1.7</td>\n      <td>61.49</td>\n      <td>0.571</td>\n    </tr>\n    <tr>\n      <th>2021-03-20</th>\n      <td>ZWE</td>\n      <td>Africa</td>\n      <td>36662.0</td>\n      <td>10.0</td>\n      <td>27.286</td>\n      <td>1510.0</td>\n      <td>0.0</td>\n      <td>1.286</td>\n      <td>2466.674</td>\n      <td>0.673</td>\n      <td>...</td>\n      <td>1899.775</td>\n      <td>21.4</td>\n      <td>307.846</td>\n      <td>1.82</td>\n      <td>1.6</td>\n      <td>30.7</td>\n      <td>36.791</td>\n      <td>1.7</td>\n      <td>61.49</td>\n      <td>0.571</td>\n    </tr>\n    <tr>\n      <th>2021-03-21</th>\n      <td>ZWE</td>\n      <td>Africa</td>\n      <td>36665.0</td>\n      <td>3.0</td>\n      <td>25.857</td>\n      <td>1512.0</td>\n      <td>2.0</td>\n      <td>1.286</td>\n      <td>2466.876</td>\n      <td>0.202</td>\n      <td>...</td>\n      <td>1899.775</td>\n      <td>21.4</td>\n      <td>307.846</td>\n      <td>1.82</td>\n      <td>1.6</td>\n      <td>30.7</td>\n      <td>36.791</td>\n      <td>1.7</td>\n      <td>61.49</td>\n      <td>0.571</td>\n    </tr>\n  </tbody>\n</table>\n<p>76411 rows × 57 columns</p>\n</div>"
     },
     "metadata": {},
     "execution_count": 5
    }
   ],
   "source": [
    "df_world = pd.read_csv('https://raw.githubusercontent.com/owid/covid-19-data/master/public/data/owid-covid-data.csv', parse_dates=['date']).set_index(['location', 'date']).sort_index()\n",
    "df_world"
   ]
  },
  {
   "cell_type": "code",
   "execution_count": 6,
   "metadata": {},
   "outputs": [
    {
     "output_type": "execute_result",
     "data": {
      "text/plain": [
       "         0          1            2          3                   4   \\\n",
       "0  iso_code  continent  total_cases  new_cases  new_cases_smoothed   \n",
       "1    object     object      float64    float64             float64   \n",
       "\n",
       "             5           6                    7                        8   \\\n",
       "0  total_deaths  new_deaths  new_deaths_smoothed  total_cases_per_million   \n",
       "1       float64     float64              float64                  float64   \n",
       "\n",
       "                      9   ...              47               48  \\\n",
       "0  new_cases_per_million  ...  gdp_per_capita  extreme_poverty   \n",
       "1                float64  ...         float64          float64   \n",
       "\n",
       "                      49                   50              51            52  \\\n",
       "0  cardiovasc_death_rate  diabetes_prevalence  female_smokers  male_smokers   \n",
       "1                float64              float64         float64       float64   \n",
       "\n",
       "                       53                          54               55  \\\n",
       "0  handwashing_facilities  hospital_beds_per_thousand  life_expectancy   \n",
       "1                 float64                     float64          float64   \n",
       "\n",
       "                        56  \n",
       "0  human_development_index  \n",
       "1                  float64  \n",
       "\n",
       "[2 rows x 57 columns]"
      ],
      "text/html": "<div>\n<style scoped>\n    .dataframe tbody tr th:only-of-type {\n        vertical-align: middle;\n    }\n\n    .dataframe tbody tr th {\n        vertical-align: top;\n    }\n\n    .dataframe thead th {\n        text-align: right;\n    }\n</style>\n<table border=\"1\" class=\"dataframe\">\n  <thead>\n    <tr style=\"text-align: right;\">\n      <th></th>\n      <th>0</th>\n      <th>1</th>\n      <th>2</th>\n      <th>3</th>\n      <th>4</th>\n      <th>5</th>\n      <th>6</th>\n      <th>7</th>\n      <th>8</th>\n      <th>9</th>\n      <th>...</th>\n      <th>47</th>\n      <th>48</th>\n      <th>49</th>\n      <th>50</th>\n      <th>51</th>\n      <th>52</th>\n      <th>53</th>\n      <th>54</th>\n      <th>55</th>\n      <th>56</th>\n    </tr>\n  </thead>\n  <tbody>\n    <tr>\n      <th>0</th>\n      <td>iso_code</td>\n      <td>continent</td>\n      <td>total_cases</td>\n      <td>new_cases</td>\n      <td>new_cases_smoothed</td>\n      <td>total_deaths</td>\n      <td>new_deaths</td>\n      <td>new_deaths_smoothed</td>\n      <td>total_cases_per_million</td>\n      <td>new_cases_per_million</td>\n      <td>...</td>\n      <td>gdp_per_capita</td>\n      <td>extreme_poverty</td>\n      <td>cardiovasc_death_rate</td>\n      <td>diabetes_prevalence</td>\n      <td>female_smokers</td>\n      <td>male_smokers</td>\n      <td>handwashing_facilities</td>\n      <td>hospital_beds_per_thousand</td>\n      <td>life_expectancy</td>\n      <td>human_development_index</td>\n    </tr>\n    <tr>\n      <th>1</th>\n      <td>object</td>\n      <td>object</td>\n      <td>float64</td>\n      <td>float64</td>\n      <td>float64</td>\n      <td>float64</td>\n      <td>float64</td>\n      <td>float64</td>\n      <td>float64</td>\n      <td>float64</td>\n      <td>...</td>\n      <td>float64</td>\n      <td>float64</td>\n      <td>float64</td>\n      <td>float64</td>\n      <td>float64</td>\n      <td>float64</td>\n      <td>float64</td>\n      <td>float64</td>\n      <td>float64</td>\n      <td>float64</td>\n    </tr>\n  </tbody>\n</table>\n<p>2 rows × 57 columns</p>\n</div>"
     },
     "metadata": {},
     "execution_count": 6
    }
   ],
   "source": []
  },
  {
   "cell_type": "code",
   "execution_count": 8,
   "metadata": {},
   "outputs": [
    {
     "output_type": "execute_result",
     "data": {
      "text/plain": [
       "location     date      \n",
       "Afghanistan  2020-02-24     NaN\n",
       "             2020-02-25     NaN\n",
       "             2020-02-26     NaN\n",
       "             2020-02-27     NaN\n",
       "             2020-02-28     NaN\n",
       "                           ... \n",
       "Zimbabwe     2021-03-17    0.27\n",
       "             2021-03-18    0.27\n",
       "             2021-03-19    0.28\n",
       "             2021-03-20    0.28\n",
       "             2021-03-21    0.29\n",
       "Name: people_vaccinated_per_hundred, Length: 76411, dtype: float64"
      ]
     },
     "metadata": {},
     "execution_count": 8
    }
   ],
   "source": [
    "df_world['people_vaccinated_per_hundred']"
   ]
  },
  {
   "cell_type": "code",
   "execution_count": null,
   "metadata": {},
   "outputs": [],
   "source": []
  }
 ]
}