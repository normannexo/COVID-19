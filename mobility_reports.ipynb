{
 "metadata": {
  "language_info": {
   "codemirror_mode": {
    "name": "ipython",
    "version": 3
   },
   "file_extension": ".py",
   "mimetype": "text/x-python",
   "name": "python",
   "nbconvert_exporter": "python",
   "pygments_lexer": "ipython3",
   "version": "3.8.8"
  },
  "orig_nbformat": 2,
  "kernelspec": {
   "name": "python3",
   "display_name": "Python 3.8.8 64-bit ('data_science': conda)",
   "metadata": {
    "interpreter": {
     "hash": "40eeeca0aebd28e1fd2adc539a281839687c5150da9cb9f5ab31148502375ebc"
    }
   }
  }
 },
 "nbformat": 4,
 "nbformat_minor": 2,
 "cells": [
  {
   "source": [
    "# Mobility reports"
   ],
   "cell_type": "markdown",
   "metadata": {}
  },
  {
   "cell_type": "code",
   "execution_count": 3,
   "metadata": {},
   "outputs": [],
   "source": [
    "import pandas as pd \n",
    "import numpy as np \n",
    "import matplotlib.pyplot as plt \n",
    "import seaborn as sns \n",
    "%matplotlib inline\n",
    "sns.set()"
   ]
  },
  {
   "cell_type": "code",
   "execution_count": 4,
   "metadata": {},
   "outputs": [
    {
     "output_type": "execute_result",
     "data": {
      "text/plain": [
       "     country_region_code country_region sub_region_1  sub_region_2  \\\n",
       "0                     DE        Germany          NaN           NaN   \n",
       "1                     DE        Germany          NaN           NaN   \n",
       "2                     DE        Germany          NaN           NaN   \n",
       "3                     DE        Germany          NaN           NaN   \n",
       "4                     DE        Germany          NaN           NaN   \n",
       "...                  ...            ...          ...           ...   \n",
       "5452                  DE        Germany    Thuringia           NaN   \n",
       "5453                  DE        Germany    Thuringia           NaN   \n",
       "5454                  DE        Germany    Thuringia           NaN   \n",
       "5455                  DE        Germany    Thuringia           NaN   \n",
       "5456                  DE        Germany    Thuringia           NaN   \n",
       "\n",
       "      metro_area iso_3166_2_code  census_fips_code  \\\n",
       "0            NaN             NaN               NaN   \n",
       "1            NaN             NaN               NaN   \n",
       "2            NaN             NaN               NaN   \n",
       "3            NaN             NaN               NaN   \n",
       "4            NaN             NaN               NaN   \n",
       "...          ...             ...               ...   \n",
       "5452         NaN           DE-TH               NaN   \n",
       "5453         NaN           DE-TH               NaN   \n",
       "5454         NaN           DE-TH               NaN   \n",
       "5455         NaN           DE-TH               NaN   \n",
       "5456         NaN           DE-TH               NaN   \n",
       "\n",
       "                         place_id        date  \\\n",
       "0     ChIJa76xwh5ymkcRW-WRjmtd6HU  2020-02-15   \n",
       "1     ChIJa76xwh5ymkcRW-WRjmtd6HU  2020-02-16   \n",
       "2     ChIJa76xwh5ymkcRW-WRjmtd6HU  2020-02-17   \n",
       "3     ChIJa76xwh5ymkcRW-WRjmtd6HU  2020-02-18   \n",
       "4     ChIJa76xwh5ymkcRW-WRjmtd6HU  2020-02-19   \n",
       "...                           ...         ...   \n",
       "5452  ChIJk_E62n8PpEcR0Hk0dMGOIAE  2020-12-27   \n",
       "5453  ChIJk_E62n8PpEcR0Hk0dMGOIAE  2020-12-28   \n",
       "5454  ChIJk_E62n8PpEcR0Hk0dMGOIAE  2020-12-29   \n",
       "5455  ChIJk_E62n8PpEcR0Hk0dMGOIAE  2020-12-30   \n",
       "5456  ChIJk_E62n8PpEcR0Hk0dMGOIAE  2020-12-31   \n",
       "\n",
       "      retail_and_recreation_percent_change_from_baseline  \\\n",
       "0                                                     6    \n",
       "1                                                     7    \n",
       "2                                                     2    \n",
       "3                                                     2    \n",
       "4                                                     3    \n",
       "...                                                 ...    \n",
       "5452                                                -62    \n",
       "5453                                                -52    \n",
       "5454                                                -53    \n",
       "5455                                                -46    \n",
       "5456                                                -71    \n",
       "\n",
       "      grocery_and_pharmacy_percent_change_from_baseline  \\\n",
       "0                                                   1.0   \n",
       "1                                                  10.0   \n",
       "2                                                   2.0   \n",
       "3                                                   2.0   \n",
       "4                                                   0.0   \n",
       "...                                                 ...   \n",
       "5452                                              -30.0   \n",
       "5453                                               -9.0   \n",
       "5454                                               -5.0   \n",
       "5455                                               17.0   \n",
       "5456                                              -41.0   \n",
       "\n",
       "      parks_percent_change_from_baseline  \\\n",
       "0                                   45.0   \n",
       "1                                    9.0   \n",
       "2                                    7.0   \n",
       "3                                   10.0   \n",
       "4                                    6.0   \n",
       "...                                  ...   \n",
       "5452                               -14.0   \n",
       "5453                                 5.0   \n",
       "5454                                 7.0   \n",
       "5455                                20.0   \n",
       "5456                                13.0   \n",
       "\n",
       "      transit_stations_percent_change_from_baseline  \\\n",
       "0                                              10.0   \n",
       "1                                               6.0   \n",
       "2                                               1.0   \n",
       "3                                               1.0   \n",
       "4                                              -1.0   \n",
       "...                                             ...   \n",
       "5452                                          -33.0   \n",
       "5453                                          -42.0   \n",
       "5454                                          -44.0   \n",
       "5455                                          -38.0   \n",
       "5456                                          -54.0   \n",
       "\n",
       "      workplaces_percent_change_from_baseline  \\\n",
       "0                                           0   \n",
       "1                                          -1   \n",
       "2                                          -2   \n",
       "3                                          -1   \n",
       "4                                          -1   \n",
       "...                                       ...   \n",
       "5452                                      -29   \n",
       "5453                                      -65   \n",
       "5454                                      -65   \n",
       "5455                                      -65   \n",
       "5456                                      -79   \n",
       "\n",
       "      residential_percent_change_from_baseline  \n",
       "0                                           -1  \n",
       "1                                            0  \n",
       "2                                            0  \n",
       "3                                            1  \n",
       "4                                            1  \n",
       "...                                        ...  \n",
       "5452                                         6  \n",
       "5453                                        22  \n",
       "5454                                        21  \n",
       "5455                                        19  \n",
       "5456                                        24  \n",
       "\n",
       "[5457 rows x 15 columns]"
      ],
      "text/html": "<div>\n<style scoped>\n    .dataframe tbody tr th:only-of-type {\n        vertical-align: middle;\n    }\n\n    .dataframe tbody tr th {\n        vertical-align: top;\n    }\n\n    .dataframe thead th {\n        text-align: right;\n    }\n</style>\n<table border=\"1\" class=\"dataframe\">\n  <thead>\n    <tr style=\"text-align: right;\">\n      <th></th>\n      <th>country_region_code</th>\n      <th>country_region</th>\n      <th>sub_region_1</th>\n      <th>sub_region_2</th>\n      <th>metro_area</th>\n      <th>iso_3166_2_code</th>\n      <th>census_fips_code</th>\n      <th>place_id</th>\n      <th>date</th>\n      <th>retail_and_recreation_percent_change_from_baseline</th>\n      <th>grocery_and_pharmacy_percent_change_from_baseline</th>\n      <th>parks_percent_change_from_baseline</th>\n      <th>transit_stations_percent_change_from_baseline</th>\n      <th>workplaces_percent_change_from_baseline</th>\n      <th>residential_percent_change_from_baseline</th>\n    </tr>\n  </thead>\n  <tbody>\n    <tr>\n      <th>0</th>\n      <td>DE</td>\n      <td>Germany</td>\n      <td>NaN</td>\n      <td>NaN</td>\n      <td>NaN</td>\n      <td>NaN</td>\n      <td>NaN</td>\n      <td>ChIJa76xwh5ymkcRW-WRjmtd6HU</td>\n      <td>2020-02-15</td>\n      <td>6</td>\n      <td>1.0</td>\n      <td>45.0</td>\n      <td>10.0</td>\n      <td>0</td>\n      <td>-1</td>\n    </tr>\n    <tr>\n      <th>1</th>\n      <td>DE</td>\n      <td>Germany</td>\n      <td>NaN</td>\n      <td>NaN</td>\n      <td>NaN</td>\n      <td>NaN</td>\n      <td>NaN</td>\n      <td>ChIJa76xwh5ymkcRW-WRjmtd6HU</td>\n      <td>2020-02-16</td>\n      <td>7</td>\n      <td>10.0</td>\n      <td>9.0</td>\n      <td>6.0</td>\n      <td>-1</td>\n      <td>0</td>\n    </tr>\n    <tr>\n      <th>2</th>\n      <td>DE</td>\n      <td>Germany</td>\n      <td>NaN</td>\n      <td>NaN</td>\n      <td>NaN</td>\n      <td>NaN</td>\n      <td>NaN</td>\n      <td>ChIJa76xwh5ymkcRW-WRjmtd6HU</td>\n      <td>2020-02-17</td>\n      <td>2</td>\n      <td>2.0</td>\n      <td>7.0</td>\n      <td>1.0</td>\n      <td>-2</td>\n      <td>0</td>\n    </tr>\n    <tr>\n      <th>3</th>\n      <td>DE</td>\n      <td>Germany</td>\n      <td>NaN</td>\n      <td>NaN</td>\n      <td>NaN</td>\n      <td>NaN</td>\n      <td>NaN</td>\n      <td>ChIJa76xwh5ymkcRW-WRjmtd6HU</td>\n      <td>2020-02-18</td>\n      <td>2</td>\n      <td>2.0</td>\n      <td>10.0</td>\n      <td>1.0</td>\n      <td>-1</td>\n      <td>1</td>\n    </tr>\n    <tr>\n      <th>4</th>\n      <td>DE</td>\n      <td>Germany</td>\n      <td>NaN</td>\n      <td>NaN</td>\n      <td>NaN</td>\n      <td>NaN</td>\n      <td>NaN</td>\n      <td>ChIJa76xwh5ymkcRW-WRjmtd6HU</td>\n      <td>2020-02-19</td>\n      <td>3</td>\n      <td>0.0</td>\n      <td>6.0</td>\n      <td>-1.0</td>\n      <td>-1</td>\n      <td>1</td>\n    </tr>\n    <tr>\n      <th>...</th>\n      <td>...</td>\n      <td>...</td>\n      <td>...</td>\n      <td>...</td>\n      <td>...</td>\n      <td>...</td>\n      <td>...</td>\n      <td>...</td>\n      <td>...</td>\n      <td>...</td>\n      <td>...</td>\n      <td>...</td>\n      <td>...</td>\n      <td>...</td>\n      <td>...</td>\n    </tr>\n    <tr>\n      <th>5452</th>\n      <td>DE</td>\n      <td>Germany</td>\n      <td>Thuringia</td>\n      <td>NaN</td>\n      <td>NaN</td>\n      <td>DE-TH</td>\n      <td>NaN</td>\n      <td>ChIJk_E62n8PpEcR0Hk0dMGOIAE</td>\n      <td>2020-12-27</td>\n      <td>-62</td>\n      <td>-30.0</td>\n      <td>-14.0</td>\n      <td>-33.0</td>\n      <td>-29</td>\n      <td>6</td>\n    </tr>\n    <tr>\n      <th>5453</th>\n      <td>DE</td>\n      <td>Germany</td>\n      <td>Thuringia</td>\n      <td>NaN</td>\n      <td>NaN</td>\n      <td>DE-TH</td>\n      <td>NaN</td>\n      <td>ChIJk_E62n8PpEcR0Hk0dMGOIAE</td>\n      <td>2020-12-28</td>\n      <td>-52</td>\n      <td>-9.0</td>\n      <td>5.0</td>\n      <td>-42.0</td>\n      <td>-65</td>\n      <td>22</td>\n    </tr>\n    <tr>\n      <th>5454</th>\n      <td>DE</td>\n      <td>Germany</td>\n      <td>Thuringia</td>\n      <td>NaN</td>\n      <td>NaN</td>\n      <td>DE-TH</td>\n      <td>NaN</td>\n      <td>ChIJk_E62n8PpEcR0Hk0dMGOIAE</td>\n      <td>2020-12-29</td>\n      <td>-53</td>\n      <td>-5.0</td>\n      <td>7.0</td>\n      <td>-44.0</td>\n      <td>-65</td>\n      <td>21</td>\n    </tr>\n    <tr>\n      <th>5455</th>\n      <td>DE</td>\n      <td>Germany</td>\n      <td>Thuringia</td>\n      <td>NaN</td>\n      <td>NaN</td>\n      <td>DE-TH</td>\n      <td>NaN</td>\n      <td>ChIJk_E62n8PpEcR0Hk0dMGOIAE</td>\n      <td>2020-12-30</td>\n      <td>-46</td>\n      <td>17.0</td>\n      <td>20.0</td>\n      <td>-38.0</td>\n      <td>-65</td>\n      <td>19</td>\n    </tr>\n    <tr>\n      <th>5456</th>\n      <td>DE</td>\n      <td>Germany</td>\n      <td>Thuringia</td>\n      <td>NaN</td>\n      <td>NaN</td>\n      <td>DE-TH</td>\n      <td>NaN</td>\n      <td>ChIJk_E62n8PpEcR0Hk0dMGOIAE</td>\n      <td>2020-12-31</td>\n      <td>-71</td>\n      <td>-41.0</td>\n      <td>13.0</td>\n      <td>-54.0</td>\n      <td>-79</td>\n      <td>24</td>\n    </tr>\n  </tbody>\n</table>\n<p>5457 rows × 15 columns</p>\n</div>"
     },
     "metadata": {},
     "execution_count": 4
    }
   ],
   "source": [
    "pd.read_csv('./data/Region_Mobility_Reports/2020_DE_Region_Mobility_Report.csv')"
   ]
  },
  {
   "cell_type": "code",
   "execution_count": null,
   "metadata": {},
   "outputs": [],
   "source": []
  }
 ]
}