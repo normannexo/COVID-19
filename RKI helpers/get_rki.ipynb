{
 "cells": [
  {
   "cell_type": "code",
   "execution_count": 1,
   "metadata": {},
   "outputs": [
    {
     "name": "stdout",
     "output_type": "stream",
     "text": [
      ".\n",
      "2020-03-14 16:07\n",
      "                Bundesland  confirmed confirmed_el                extra  \\\n",
      "0        Baden-Württemberg    454 (1)      401 (1)                  NaN   \n",
      "1                   Bayern    558 (1)          412                  NaN   \n",
      "2                   Berlin        174          174                  NaN   \n",
      "3              Brandenburg         44           44                  NaN   \n",
      "4                   Bremen         42           42                  NaN   \n",
      "5                  Hamburg         99           99                  NaN   \n",
      "6                   Hessen        148           94                  NaN   \n",
      "7   Mecklenburg-Vorpommern         33           21                  NaN   \n",
      "8            Niedersachsen        230          134                  NaN   \n",
      "9      Nordrhein-Westfalen    936 (3)      887 (3)  Landkreis Heinsberg   \n",
      "10         Rheinland-Pfalz        102          102                  NaN   \n",
      "11                Saarland         40           30                  NaN   \n",
      "12                 Sachsen         83           46                  NaN   \n",
      "13          Sachsen-Anhalt         42           29                  NaN   \n",
      "14      Schleswig-Holstein         48           45                  NaN   \n",
      "15               Thüringen         29           16                  NaN   \n",
      "16                  Gesamt  3.062 (5)    2.576 (4)                  NaN   \n",
      "\n",
      "                  date  \n",
      "0  2020-03-14 16:07:00  \n",
      "1  2020-03-14 16:07:00  \n",
      "2  2020-03-14 16:07:00  \n",
      "3  2020-03-14 16:07:00  \n",
      "4  2020-03-14 16:07:00  \n",
      "5  2020-03-14 16:07:00  \n",
      "6  2020-03-14 16:07:00  \n",
      "7  2020-03-14 16:07:00  \n",
      "8  2020-03-14 16:07:00  \n",
      "9  2020-03-14 16:07:00  \n",
      "10 2020-03-14 16:07:00  \n",
      "11 2020-03-14 16:07:00  \n",
      "12 2020-03-14 16:07:00  \n",
      "13 2020-03-14 16:07:00  \n",
      "14 2020-03-14 16:07:00  \n",
      "15 2020-03-14 16:07:00  \n",
      "16 2020-03-14 16:07:00  \n"
     ]
    }
   ],
   "source": [
    "import pandas as pd\n",
    "import datetime\n",
    "import numpy as np\n",
    "import os\n",
    "import bd\n",
    "now = datetime.datetime.now()\n",
    "curr_minute = now.strftime(\"%Y-%m-%d %H:%M\")\n",
    "#dir_path = os.path.dirname(os.path.abspath(__file__))\n",
    "dir_path = '.'\n",
    "print(dir_path)\n",
    "\n",
    "csv_file = os.path.join(dir_path, 'csv', 'test', 'rki_' + now.strftime('%Y-%m-%d_%H_%M') + '.csv')\n",
    "CSVLOC=os.path.join(dir_path, 'csv', 'archiv')\n",
    "print(curr_minute)\n",
    "url = 'https://www.rki.de/DE/Content/InfAZ/N/Neuartiges_Coronavirus/Fallzahlen.html'\n",
    "columns = ['Bundesland', 'confirmed', 'confirmed_el', 'extra']\n",
    "df = pd.read_html(url)[0]\n",
    "df.columns = columns\n",
    "df['date'] = pd.to_datetime(curr_minute)\n",
    "print(df)\n",
    "df.to_csv(csv_file)\n"
   ]
  },
  {
   "cell_type": "code",
   "execution_count": null,
   "metadata": {},
   "outputs": [],
   "source": []
  }
 ],
 "metadata": {
  "kernelspec": {
   "display_name": "Python 3",
   "language": "python",
   "name": "python3"
  },
  "language_info": {
   "codemirror_mode": {
    "name": "ipython",
    "version": 3
   },
   "file_extension": ".py",
   "mimetype": "text/x-python",
   "name": "python",
   "nbconvert_exporter": "python",
   "pygments_lexer": "ipython3",
   "version": "3.7.6"
  }
 },
 "nbformat": 4,
 "nbformat_minor": 4
}
